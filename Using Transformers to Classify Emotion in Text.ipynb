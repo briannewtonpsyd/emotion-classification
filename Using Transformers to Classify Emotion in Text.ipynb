{
 "cells": [
  {
   "cell_type": "markdown",
   "metadata": {},
   "source": [
    "# Using Transformers to Classify Emotion in Text\n",
    "\n",
    "This project began as a capstone for the Udacity Machine Learning Engineer Nanodegree is described in more detail in this <a href=\"https://drive.google.com/open?id=1ALVUnQS1eLqQHcMiU0uMD2xOnCuGMe8x\">project proposal</a>.\n",
    "\n",
    "I then expanded upon the tuning and analysis of the results over time in an attempt to improve the model.\n",
    "\n",
    "## Project Summary \n",
    "\n",
    "As a Psychologist who is interested in analyzing the content and outcomes of mental health treatment, text data is very important. Most of the content of clinical documentation is currently stored in text, and the content of psychotherapy could be either manually transcribed or automatically via speech-to-text. Thus, I'm very interested in using modern Natural Language Processing (NLP) techniques to classify the content of text.\n",
    "\n",
    "In this project, I'm attempting to see if a modern NLP technique called <a href=\"https://arxiv.org/pdf/1810.04805.pdf\"> \"Bidirectional Encoder Representations from Transformers\" (BERT)</a> or similar Transformer based models can be used to improve upon previous attempts in the literature to classify emotion from text.\n",
    "\n",
    "The study I am using as a baseline is entitled <a href=\"https://www.aclweb.org/anthology/C18-1179.pdf\">\"An Analysis of Annotated Corpora for Emotion Classification in Text\"</a>. This study looked at a number of different text corpora which had been labeled with expressed emotion. The dataset I selected from the study is called <a href=\"https://arxiv.org/pdf/1710.03957.pdf\">\"DailyDialog\"</a>. I selected this dataset for a few reasons:\n",
    "\n",
    "1. I am intending to do a within corpus prediction, and this dataset was noted as one of the best for that purpose in the study. They were able to achieve an F1 score of .71, which was one of the higher within corpus results.\n",
    "2. It contains content that is meant to represent usual discussions between individuals, back and forth, which would be a better facsimile of a therapy session.\n",
    "3. It was readily and publicly available for download.\n",
    "4. Upon initial review, it looked quite clean and well documented, requiring a minimum amount of data transformation and cleaning.\n",
    "5. It contains multiple labeled emotions (6 discrete emotions and \"no emotion\"), which makes it a more challenging prediction task than simple positive or negative binary emotion.\n",
    "\n",
    "## Goal\n",
    "\n",
    "My goal is to use BERT (or a BERT-like model) to predict the labeled emotion for each sentence in the dataset. I hope to exceed the study's F1 score of .71 and will be using F1 because the dataset is relatively unbalanced in its class representation, meaning pure accuracy would not be ideal."
   ]
  },
  {
   "cell_type": "markdown",
   "metadata": {},
   "source": [
    "## Loading in the Data and Initial Exploration\n",
    "\n",
    "The data is stored in two separate raw text files (dialogues_text.txt and dialogues_emotion.txt). The former contains the text of the conversations, while the latter contains the labeled emotions.\n",
    "\n",
    "The emotion classes are labeled numerically:\n",
    "\n",
    "- 0: 'no emotion'\n",
    "- 1: 'anger' \n",
    "- 2: 'disgust'\n",
    "- 3: 'fear' \n",
    "- 4: 'happiness' \n",
    "- 5: 'sadness'\n",
    "- 6: 'surprise'\n",
    "\n",
    "In the cell below I load in the two files to show how the data is represented. As you can see, each sentence is separated by a marker \"__eou__\" and each conversation is separated by a new line.\n",
    "\n",
    "For emotions, each number is an emotion label corresponding to a single sentence in the text file, separated by spaces, and with conversations again split by a new line."
   ]
  },
  {
   "cell_type": "code",
   "execution_count": 1,
   "metadata": {},
   "outputs": [
    {
     "name": "stdout",
     "output_type": "stream",
     "text": [
      "Sample Text: \n",
      "The kitchen stinks . __eou__ I'll throw out the garbage . __eou__\n",
      "So Dick , how about getting some coffee for tonight ? __eou__ Coffee ? I don ’ t honestly like that kind of stuff . __eou__ Come on , you can at least try a little , besides your cigarette . __eou__ What ’ s wrong with that ? Cigarette is the thing I go crazy for . __eou__ Not for me , Dick . __eou__\n",
      "Are things still going badly with your houseguest ? __eou__ Getting worse . Now he ’ s eating me out of house and home . I ’ Ve tried talking to him but it all goes in one ear and out the other . He makes himself at home , which is fine . But what really gets me is that yesterday he walked into the living room in the raw and I had company over ! That was the last straw . __eou__ Leo , I really think you ’ re beating around the bush with this guy . I know he used to be your best friend in college , but I really think it ’ s time to lay down the law . __eou__ You ’ re right . Everything is probably going to come to a head toni\n",
      "\n",
      "\n",
      "Sample Emotion Labels: \n",
      "2 0 \n",
      "4 2 0 1 0 \n"
     ]
    }
   ],
   "source": [
    "#Importing required libraries.\n",
    "import io\n",
    "import collections\n",
    "import numpy as np\n",
    "import re\n",
    "import sklearn\n",
    "\n",
    "from simpletransformers.classification import ClassificationModel\n",
    "\n",
    "#Load in each text file\n",
    "dialogues_text = open(\"dialogues_text.txt\", encoding=\"utf-8\").read()\n",
    "dialogues_emotion = open(\"dialogues_emotion.txt\", encoding=\"utf-8\").read()\n",
    "\n",
    "print(\"Sample Text: \\n\" + dialogues_text[0:1000] + \"\\n\\n\")\n",
    "print(\"Sample Emotion Labels: \\n\" + dialogues_emotion[0:15])"
   ]
  },
  {
   "cell_type": "markdown",
   "metadata": {},
   "source": [
    "## Initial Data Manipulation\n",
    "\n",
    "The data needs to be both transformed and loaded into a Pandas DataFrame for the eventual model training. We are looking for the eventual model training, the data needs to be in a DataFrame with two columns, one entitled \"text\", which has one row per sentence, and one entitled \"label\", with each label represented by a number.\n",
    "\n",
    "Our data is relatively close to that format. In order to get the text data into one sentence per line, the data will first have all newlines removed, as they are irrelevant to this analysis, and then the data will be split based on the special \"\\_\\_eou\\_\\_\" character which represents the end of a sentence.\n",
    "\n",
    "For the emotion labels, again all newline characters will be removed, and then the data will simply be split by spaces.\n",
    "\n",
    "These will both be loaded into separate arrays and then put together into the final dataframe.\n",
    "\n",
    "As you can see below, we end up with 102981 sentences labeled with emotions."
   ]
  },
  {
   "cell_type": "code",
   "execution_count": 2,
   "metadata": {},
   "outputs": [
    {
     "name": "stdout",
     "output_type": "stream",
     "text": [
      "102981\n"
     ]
    }
   ],
   "source": [
    "#Importing required libraries.\n",
    "import pandas as pd\n",
    "\n",
    "#load both files into arrays, stripping out the new-line characters and splitting.\n",
    "dialogues_text = open(\"dialogues_text.txt\", encoding=\"utf-8\").read().replace('\\n', ' ').split(' __eou__ ')\n",
    "dialogues_emotion = open(\"dialogues_emotion.txt\", encoding=\"utf-8\").read().replace('\\n', '').split(' ')\n",
    "\n",
    "#After some analysis it was determined that for some reason a single emotion label was missing from the dataset at this point.\n",
    "#The sentence appeared to have no emotion, and this class is the most common, so would have the least impact on the data,\n",
    "#so a zero is inserted in the emotion array here.\n",
    "dialogues_emotion.insert(4632, '0')\n",
    "\n",
    "print(len(dialogues_text))\n",
    "\n",
    "#Load both arrays into a single dataframe, remove any rows that have blank sentences and convert the label column to an integer\n",
    "#from the original string data type.\n",
    "dialogues_df = pd.DataFrame({'text': dialogues_text, 'labels': dialogues_emotion})\n",
    "dialogues_df = dialogues_df[dialogues_df.text != '']\n",
    "dialogues_df.labels = dialogues_df.labels.astype(int)\n"
   ]
  },
  {
   "cell_type": "code",
   "execution_count": 3,
   "metadata": {},
   "outputs": [
    {
     "name": "stdout",
     "output_type": "stream",
     "text": [
      "                                                text  labels\n",
      "0                               The kitchen stinks .       2\n",
      "1                       I'll throw out the garbage .       0\n",
      "2  So Dick , how about getting some coffee for to...       4\n",
      "3  Coffee ? I don ’ t honestly like that kind of ...       2\n",
      "4  Come on , you can at least try a little , besi...       0\n",
      "1412\n"
     ]
    }
   ],
   "source": [
    "#Examining the head of the DataFrame, we see that the text and labels loaded correctly.\n",
    "#The longest sentence is 1412 characters, which may affect the ideal sequence length in our eventual model.\n",
    "print(dialogues_df.head())\n",
    "print(dialogues_df.text.map(lambda x: len(x)).max())"
   ]
  },
  {
   "cell_type": "markdown",
   "metadata": {},
   "source": [
    "# Data Distribution\n",
    "\n",
    "It's important to take a look at the distribution of the dataset, as imbalanced datasets can sometimes affect certain models, and it definitely impacts the evaluation metric used. If one class is overly represented, for example, and the model just learns to always predict that class, it can score quite well despite having very little predictive power.\n",
    "\n",
    "In our dataset, as shown below, around 83% of the sentences as labeled with \"no emotion\". If our model predicted no emotion for every sentence, it would have an accuracy score of 83%, which is not bad, but obviously not a well trained model.\n",
    "\n",
    "As such, we'll be using the F1 score for this model, which balances valuing precision and recall. In addition, we'll be using the F1 micro score, partially because that is what was used in the original study we are using as a benchmark, and also because it averages the F1 scores achieved for each class, so even very small classes can be equally represented in the final score."
   ]
  },
  {
   "cell_type": "code",
   "execution_count": 4,
   "metadata": {},
   "outputs": [
    {
     "name": "stdout",
     "output_type": "stream",
     "text": [
      "No Emotion: 85573  (83.1%)\n",
      "Anger: 1022  (1.0%)\n",
      "Disgust: 353  (0.3%)\n",
      "Fear: 174  (0.2%)\n",
      "Happiness: 12885  (12.5%)\n",
      "Sadness: 1150  (1.117%)\n",
      "Surprise: 1823  (1.77%)\n"
     ]
    },
    {
     "data": {
      "image/png": "[encoded data removed]",
      "text/plain": [
       "<Figure size 432x288 with 1 Axes>"
      ]
     },
     "metadata": {},
     "output_type": "display_data"
    }
   ],
   "source": [
    "import seaborn as sns\n",
    "\n",
    "#Calculate the counts of each emotion in the dataset\n",
    "total_emotions_count = len(dialogues_df.labels)\n",
    "no_emotion_count = len(dialogues_df[dialogues_df.labels == 0])\n",
    "anger_count = len(dialogues_df[dialogues_df.labels == 1])\n",
    "disgust_count = len(dialogues_df[dialogues_df.labels == 2])\n",
    "fear_count = len(dialogues_df[dialogues_df.labels == 3])\n",
    "happiness_count = len(dialogues_df[dialogues_df.labels == 4])\n",
    "sadness_count =  len(dialogues_df[dialogues_df.labels == 5])\n",
    "surprise_count =  len(dialogues_df[dialogues_df.labels == 6])\n",
    "\n",
    "#Print the count along with the precentage of the total\n",
    "print('No Emotion: ' + str(no_emotion_count) + \"  (\" + str(round(no_emotion_count/total_emotions_count, 3)*100) + \"%)\")\n",
    "print('Anger: ' + str(anger_count) + \"  (\" + str(round(anger_count/total_emotions_count, 3)*100) + \"%)\")\n",
    "print('Disgust: ' + str(disgust_count) + \"  (\" + str(round(disgust_count/total_emotions_count, 3)*100) + \"%)\")\n",
    "print('Fear: ' + str(fear_count) + \"  (\" + str(round(fear_count/total_emotions_count, 3)*100) + \"%)\")\n",
    "print('Happiness: ' + str(happiness_count) + \"  (\" + str(round(happiness_count/total_emotions_count, 3)*100) + \"%)\")\n",
    "print('Sadness: ' + str(sadness_count) + \"  (\" + str(round(sadness_count/total_emotions_count, 5)*100) + \"%)\")\n",
    "print('Surprise: ' + str(surprise_count) + \"  (\" + str(round(surprise_count/total_emotions_count, 4)*100) + \"%)\")\n",
    "\n",
    "#Use seaborn to visualize the distribution.\n",
    "sns.set(style=\"whitegrid\")\n",
    "ax = sns.countplot(x=\"labels\", data=dialogues_df)\n"
   ]
  },
  {
   "cell_type": "markdown",
   "metadata": {},
   "source": [
    "Next we show the distribution of the lengths of each sentence in number of characters. As we can see, the data is heavily skewed, with a long tail to the right, from the min length of 1 character all the way to 1412 characters in one sentence. The mean is around 60 characters, the median at 47, and the histogram shows that almost all sentences fall within 0 to 200  characters or so."
   ]
  },
  {
   "cell_type": "code",
   "execution_count": 5,
   "metadata": {},
   "outputs": [
    {
     "name": "stdout",
     "output_type": "stream",
     "text": [
      "Mean Length: 60.09\n",
      "Median Length: 47.0\n",
      "Max Length: 1412\n",
      "Min Length: 1\n"
     ]
    },
    {
     "data": {
      "text/plain": [
       "<matplotlib.axes._subplots.AxesSubplot at 0x1bbbb98fcc8>"
      ]
     },
     "execution_count": 5,
     "metadata": {},
     "output_type": "execute_result"
    },
    {
     "data": {
      "image/png": "[encoded data removed]",
      "text/plain": [
       "<Figure size 432x288 with 1 Axes>"
      ]
     },
     "metadata": {},
     "output_type": "display_data"
    }
   ],
   "source": [
    "dialogues_length = dialogues_df.text.map(lambda x: len(x))\n",
    "print(\"Mean Length: \" + str(round(dialogues_length.mean(),2)))\n",
    "print(\"Median Length: \" + str(dialogues_length.median()))\n",
    "print(\"Max Length: \" + str(dialogues_length.max()))\n",
    "print(\"Min Length: \" + str(dialogues_length.min()))\n",
    "\n",
    "sns.distplot(dialogues_length)"
   ]
  },
  {
   "cell_type": "markdown",
   "metadata": {},
   "source": [
    "# Preparing the Data into Train and Evaluation Datasets\n",
    "\n",
    "Now that the data has been tranformed appropriately and we understand the distribution, we need to split the dataset into training, evaluation and test datasets. The original study used 80%/20% train/test split, but I'll be using a 70%/15%/15% train/eval/test split. The eval split will be used to select a model, validate the model performance during training and test hyperparamter tuning. The test set will be held out to only provide final performance metrics. This should give a more accurate expectation of how the model would generalize to new (similar) data and if anything will make it harder for me to achieve the evaluation metrics that the study achieved.\n",
    "\n",
    "## Data Imbalance\n",
    "\n",
    "As we saw above, the data is heavily imabalanced. It's important that the proportion of the classes is similar in the training, evaluation and test datasets. So, first I'll split the data by class, then distribute the same proportion of the data randomly to the three datasets.\n",
    "\n",
    "I've left code below to apply a \"none\" label to any data beyond the selected train/eval/test data, as this makes it easy to only select .07, .015 and .015 for example to work with 10% of the data for quicker training and testing."
   ]
  },
  {
   "cell_type": "code",
   "execution_count": 6,
   "metadata": {},
   "outputs": [],
   "source": [
    "# Splitting train by emotion\n",
    "# Create dict\n",
    "by_emotion = collections.defaultdict(list)\n",
    "for _, row in dialogues_df.iterrows():\n",
    "    by_emotion[row.labels].append(row.to_dict())\n",
    "    \n",
    "# Create split data\n",
    "final_list = []\n",
    "np.random.seed(42)\n",
    "for _, item_list in sorted(by_emotion.items()):\n",
    "    np.random.shuffle(item_list)\n",
    "    n = len(item_list)\n",
    "    n_train = int(.70*n)\n",
    "    n_val = int(.15*n)\n",
    "    n_test = int(.15*n)\n",
    "    \n",
    "    #Give data point a split attribute\n",
    "    for item in item_list[:n_train]:\n",
    "        item['split'] = 'train'\n",
    "    for item in item_list[n_train:n_train+n_val]:\n",
    "        item['split'] = 'val'\n",
    "    for item in item_list[n_train+n_val:n_train+n_val+n_test]:\n",
    "        item['split'] = 'test'\n",
    "    for item in item_list[n_train+n_val+n_test:]:\n",
    "        item['split'] = 'none'  \n",
    "    \n",
    "    # Add to final list\n",
    "    final_list.extend(item_list)\n"
   ]
  },
  {
   "cell_type": "markdown",
   "metadata": {},
   "source": [
    "# Data Pre-Processing\n",
    "\n",
    "I created a pre-processing function with common methods of processing textual data using regular expressions (making the text data lowercased, inserting spaces around punctionation, any removing any uncommon characters or puncuation), but I didn't end up using it. The data from the study has already had some light pre-processing (spacing etc), applied and the transformers library I will be using I believe performs necessary text pre-processing and tokenization as necessary for BERT-like models by itself.\n",
    "\n",
    "Instead, I simply split the data using the applied labels above into Train, Eval and Test datasets."
   ]
  },
  {
   "cell_type": "code",
   "execution_count": 7,
   "metadata": {},
   "outputs": [],
   "source": [
    "def preprocess_text(text):\n",
    "    text = ' '.join(word.lower() for word in text.split(\" \"))\n",
    "    text = re.sub(r\"([.,!?])\", r\" \\1 \", text)\n",
    "    text = re.sub(r\"[^a-zA-Z.,!?]+\", r\" \", text)\n",
    "    return text"
   ]
  },
  {
   "cell_type": "code",
   "execution_count": 24,
   "metadata": {},
   "outputs": [
    {
     "name": "stdout",
     "output_type": "stream",
     "text": [
      "Train: 72084\n",
      "Eval: 15443\n",
      "Test: 15443\n"
     ]
    }
   ],
   "source": [
    "train_df = pd.DataFrame(filter(lambda x: x['split'] == 'train', final_list))\n",
    "eval_df = pd.DataFrame(filter(lambda x: x['split'] == 'val', final_list))\n",
    "test_df = pd.DataFrame(filter(lambda x: x['split'] == 'test', final_list))\n",
    "\n",
    "\n",
    "print(\"Train: {}\".format(len(train_df)))\n",
    "print(\"Eval: {}\".format(len(eval_df)))\n",
    "print(\"Test: {}\".format(len(test_df)))"
   ]
  },
  {
   "cell_type": "markdown",
   "metadata": {},
   "source": [
    "# Model Selection and Training\n",
    "\n",
    "For this project, I decided to use the [\"Simple Transformers\" library](https://github.com/ThilinaRajapakse/simpletransformers).\n",
    "\n",
    "After researching BERT a good amount, it seemed like one of the more popular libraries for applying BERT's pre-trained models was the [\"Pytorch-Transformers\" library by HuggingFace](https://github.com/huggingface/transformers). HuggingFace has apparently done a great job of exposing a number of pre-trained large NLP transformers through a consistent Pytorch interface.\n",
    "\n",
    "Simple Transformers then took some of the more popular transformers and created an even higher level and user friendly wrapper for the Pytorch-Transformers library. Many BERT, XLNet, NLM, RoBERTa and DistilBERT models are available. The primary benefit of this library is that it's very user friendly, as seen below, only requiring data in a particular format, and then allowing for training, evaluation and prediction in 3 lines of code.\n",
    "\n",
    "Despite that simplicity, it can handle a number of different application of transformers including multi-class classification (as I'm doing here). In addition, one can pass a number of parameters to the training and evaluation objects to modify hyperparameters such as maximum sequence length, batch size, learning rate and warmup ratio among others.\n",
    "\n",
    "For my model, I experimented a few different BERT models, beginning with RoBERTa-base, then using BERT cased, XLNet, DistilBERT abd DistilRoBERTa. After running all these models against a 10% subset of the data, I ended up landing on DistilRoBERTa (which is a distilled down, smaller RoBERTa pre-trained model). Being a distilled model, it trains quicker, achieved the highest Matthews Correlation Coefficient (mcc) and also seemed to be more resistant to over-fitting in testing."
   ]
  },
  {
   "cell_type": "markdown",
   "metadata": {},
   "source": [
    "# Initial Model Tuning\n",
    "\n",
    "After training the model using default hyper-parameters, I noticed a few things. Firstly, the training loss appeared to fluctuate wildly. I also noticed that it appeared to achieve a general minimum of loss relatively early in the training, and plateau or even increase. Lastly, on evaluation, I noticed that the model was only predicting 4 of the 7 classes, yet still achieving a high (~ 87%) accuracy and a decent mcc score (~ .47). Given that the dataset nearly 96% of the observations in the dataset are classified as either No Emotion or Happiness, this made sense, but seemed like a distinct case of overfitting to the training data.\n",
    "\n",
    "In order to diagnose this, I implemented a tool called <a href=\"https://www.wandb.com/\">Weights and Biases</a>, which allows for real-time model evaluation and is supported by the Simple Transformers library. I had originally experimented with TensorBoard, which provided similar metrics, but was not as user-friendly nor did it update seamlessly as the training was occurring. As a test, I initially ran against 10% of the data, 1 epoch only and received the following results:"
   ]
  },
  {
   "cell_type": "markdown",
   "metadata": {},
   "source": [
    "![Training Loss Fluctuations](images/Training%20Loss%20Fluctuations.png)"
   ]
  },
  {
   "cell_type": "markdown",
   "metadata": {},
   "source": [
    "There are a number of things to note here, but the one thing that jumped out in particular was the very large fluctuations in the training loss (and mcc). After doing a bit of research, it seemed like a common cause for this is that the batch size is set too low. When the model is performing adjusting weights through back propagation based on the loss generated from only a few samples of the data, it can swing too far in one direction or the other.\n",
    "\n",
    "I experimented with a few different settings, but batch rates that were too high (256 for example) caused my poor 8GB GPU to immediately run out of memory. I was able to sometimes get 128 to work, but settled on using 64 for reliability and ran the same training again, but with 10 epochs instead."
   ]
  },
  {
   "cell_type": "markdown",
   "metadata": {},
   "source": [
    "![Overfitting](images/Overfitting.png)"
   ]
  },
  {
   "cell_type": "markdown",
   "metadata": {},
   "source": [
    "The increase in batch size did appear to address the large fluctuations in training loss and mcc at least somewhat.\n",
    "\n",
    "As you can see, this tool also illustrated a lot of useful things about this model. First, you can see the learning rate quickly rise up, then slowly drop, which shows the library itself is allowing for a flexible learning rate as it begins to find a minimum which should require less manual tuning of the learning rate parameter.\n",
    "\n",
    "Secondly, we can see the training loss continue to decrease throughout the 10 epochs, but the loss on the evaluation dataset begin to increase consistently after about 50 steps.\n",
    "\n",
    "Next, I attempted to address this issue of overfitting to the training set and increase in evaluation loss by implementing Early Stopping. Simple Transformers has parameters to enable early stopping of training once it detects that the evaluation loss has been increasing consistently for a period of time. I could also continue to explore further methods of avoiding overfitting using regularization (such as L2 regularization and dropout).\n",
    "\n",
    "What follows in the code I used to train this final version of the model, with 3 epochs and early stopping enabled. I also adjusted the Weights and Biases logging to occur only every 100 steps to speed up model training. The Weights and Biases visuals follow immediately after.\n",
    "\n",
    "# Model Training"
   ]
  },
  {
   "cell_type": "code",
   "execution_count": 9,
   "metadata": {},
   "outputs": [
    {
     "name": "stdout",
     "output_type": "stream",
     "text": [
      "Converting to features started. Cache is not used.\n"
     ]
    },
    {
     "data": {
      "application/vnd.jupyter.widget-view+json": {
       "model_id": "52e34157fecf4e30af51e10fd0a15d09",
       "version_major": 2,
       "version_minor": 0
      },
      "text/plain": [
       "HBox(children=(FloatProgress(value=0.0, max=72084.0), HTML(value='')))"
      ]
     },
     "metadata": {},
     "output_type": "display_data"
    },
    {
     "name": "stdout",
     "output_type": "stream",
     "text": [
      "\n",
      "Selected optimization level O1:  Insert automatic casts around Pytorch functions and Tensor methods.\n",
      "\n",
      "Defaults for this optimization level are:\n",
      "enabled                : True\n",
      "opt_level              : O1\n",
      "cast_model_type        : None\n",
      "patch_torch_functions  : True\n",
      "keep_batchnorm_fp32    : None\n",
      "master_weights         : None\n",
      "loss_scale             : dynamic\n",
      "Processing user overrides (additional kwargs that are not None)...\n",
      "After processing overrides, optimization options are:\n",
      "enabled                : True\n",
      "opt_level              : O1\n",
      "cast_model_type        : None\n",
      "patch_torch_functions  : True\n",
      "keep_batchnorm_fp32    : None\n",
      "master_weights         : None\n",
      "loss_scale             : dynamic\n",
      "Warning:  multi_tensor_applier fused unscale kernel is unavailable, possibly because apex was installed without --cuda_ext --cpp_ext. Using Python fallback.  Original ImportError was: ImportError('DLL load failed: The specified procedure could not be found.')\n"
     ]
    },
    {
     "data": {
      "application/vnd.jupyter.widget-view+json": {
       "model_id": "73d76ad49539440ea9a28598287b543f",
       "version_major": 2,
       "version_minor": 0
      },
      "text/plain": [
       "HBox(children=(FloatProgress(value=0.0, description='Epoch', max=3.0, style=ProgressStyle(description_width='i…"
      ]
     },
     "metadata": {},
     "output_type": "display_data"
    },
    {
     "data": {
      "text/html": [
       "\n",
       "                Logging results to <a href=\"https://wandb.com\" target=\"_blank\">Weights & Biases</a> <a href=\"https://docs.wandb.com/integrations/jupyter.html\" target=\"_blank\">(Documentation)</a>.<br/>\n",
       "                Project page: <a href=\"https://app.wandb.ai/brinew27/visualization-demo\" target=\"_blank\">https://app.wandb.ai/brinew27/visualization-demo</a><br/>\n",
       "                Run page: <a href=\"https://app.wandb.ai/brinew27/visualization-demo/runs/qgop1j40\" target=\"_blank\">https://app.wandb.ai/brinew27/visualization-demo/runs/qgop1j40</a><br/>\n",
       "            "
      ],
      "text/plain": [
       "<IPython.core.display.HTML object>"
      ]
     },
     "metadata": {},
     "output_type": "display_data"
    },
    {
     "name": "stderr",
     "output_type": "stream",
     "text": [
      "Failed to query for notebook name, you can set it manually with the WANDB_NOTEBOOK_NAME environment variable\n"
     ]
    },
    {
     "data": {
      "application/vnd.jupyter.widget-view+json": {
       "model_id": "be4bce6a642948f5bcd02b2af50a1dab",
       "version_major": 2,
       "version_minor": 0
      },
      "text/plain": [
       "HBox(children=(FloatProgress(value=0.0, description='Current iteration', max=1127.0, style=ProgressStyle(descr…"
      ]
     },
     "metadata": {},
     "output_type": "display_data"
    },
    {
     "name": "stdout",
     "output_type": "stream",
     "text": [
      "\r",
      "Running loss: 1.992396"
     ]
    },
    {
     "name": "stderr",
     "output_type": "stream",
     "text": [
      "D:\\Anaconda3\\envs\\transformers\\lib\\site-packages\\torch\\optim\\lr_scheduler.py:113: UserWarning: Seems like `optimizer.step()` has been overridden after learning rate scheduler initialization. Please, make sure to call `optimizer.step()` before `lr_scheduler.step()`. See more details at https://pytorch.org/docs/stable/optim.html#how-to-adjust-learning-rate\n",
      "  \"https://pytorch.org/docs/stable/optim.html#how-to-adjust-learning-rate\", UserWarning)\n"
     ]
    },
    {
     "name": "stdout",
     "output_type": "stream",
     "text": [
      "Running loss: 1.314169Gradient overflow.  Skipping step, loss scaler 0 reducing loss scale to 32768.0\n",
      "Running loss: 0.452754"
     ]
    },
    {
     "name": "stderr",
     "output_type": "stream",
     "text": [
      "D:\\Anaconda3\\envs\\transformers\\lib\\site-packages\\torch\\optim\\lr_scheduler.py:224: UserWarning: To get the last learning rate computed by the scheduler, please use `get_last_lr()`.\n",
      "  warnings.warn(\"To get the last learning rate computed by the scheduler, \"\n"
     ]
    },
    {
     "name": "stdout",
     "output_type": "stream",
     "text": [
      "Running loss: 0.510146\n",
      "No improvement in eval_loss for 1 steps.\n",
      "Training will stop at 3 steps.\n",
      "\n",
      "Running loss: 0.241458\n",
      "No improvement in eval_loss for 1 steps.\n",
      "Training will stop at 3 steps.\n",
      "\n",
      "Running loss: 0.455666\n",
      "No improvement in eval_loss for 1 steps.\n",
      "Training will stop at 3 steps.\n",
      "\n",
      "Running loss: 0.476173\n",
      "No improvement in eval_loss for 2 steps.\n",
      "Training will stop at 3 steps.\n",
      "\n",
      "Running loss: 0.318784\n"
     ]
    },
    {
     "data": {
      "application/vnd.jupyter.widget-view+json": {
       "model_id": "97152975e4774f22a440719b2d25ec4c",
       "version_major": 2,
       "version_minor": 0
      },
      "text/plain": [
       "HBox(children=(FloatProgress(value=0.0, description='Current iteration', max=1127.0, style=ProgressStyle(descr…"
      ]
     },
     "metadata": {},
     "output_type": "display_data"
    },
    {
     "name": "stdout",
     "output_type": "stream",
     "text": [
      "Running loss: 0.393278\n",
      "No improvement in eval_loss for 1 steps.\n",
      "Training will stop at 3 steps.\n",
      "\n",
      "Running loss: 0.243230\n",
      "No improvement in eval_loss for 1 steps.\n",
      "Training will stop at 3 steps.\n",
      "\n",
      "Running loss: 0.303280\n",
      "No improvement in eval_loss for 2 steps.\n",
      "Training will stop at 3 steps.\n",
      "\n",
      "Running loss: 0.267167\n",
      "No improvement in eval_loss for 3 steps.\n",
      "Training will stop at 3 steps.\n",
      "\n",
      "Running loss: 0.202245\n",
      "Patience of 3 steps reached.\n",
      "Training terminated.\n",
      "\n",
      "Training of roberta model complete. Saved to outputs/.\n"
     ]
    }
   ],
   "source": [
    "# Training arguments\n",
    "train_args = {\n",
    "    'evaluate_during_training': True,\n",
    "    'logging_steps': 100,\n",
    "    'num_train_epochs': 3,\n",
    "    'evaluate_during_training_steps': 100,\n",
    "    'save_eval_checkpoints': False,\n",
    "    'train_batch_size': 64,\n",
    "    'eval_batch_size': 64,\n",
    "    'overwrite_output_dir': True,\n",
    "    'use_cached_eval_features' : False,\n",
    "    'reprocess_input_data': True,\n",
    "    'wandb_project': \"visualization-demo\",\n",
    "    \"use_early_stopping\": True,\n",
    "    \"early_stopping_patience\": 3,\n",
    "    \"early_stopping_delta\": 0\n",
    "}\n",
    "\n",
    "# Create a ClassificationModel\n",
    "model = ClassificationModel('roberta', 'distilroberta-base', num_labels=7, args=train_args)\n",
    "\n",
    "# Train the model\n",
    "model.train_model(train_df, eval_df=eval_df)"
   ]
  },
  {
   "cell_type": "markdown",
   "metadata": {},
   "source": [
    "![Early Stopping](images/Early%20Stopping.png)"
   ]
  },
  {
   "cell_type": "markdown",
   "metadata": {},
   "source": [
    "As you can see above, the model stopped early (about 1.5 epochs in) once the evaluation loss started to climb consistently for 3 iterations.\n",
    "\n",
    "The training loss was at its lowest point, and the mcc had achieved its highest value yet of nearly .51!"
   ]
  },
  {
   "cell_type": "markdown",
   "metadata": {},
   "source": [
    "# Model Evaluation\n",
    "\n",
    "Firstly, I created a couple of small custom functions for evaluation. Simple Transformers enables you to pass any evaluation metric into its .eval_model() function as long as it takes a list of predictions and true values as parameters (which is the norm for most Scikit Learn metrics), or create your own.\n",
    "\n",
    "I first created a function using Scikit-Learn's F1 Score Micro calculation, since this is the metric that was used in the original study. I personally believe there are some issues with this, since as far as I understand it, micro F1 in this case will be the same as the Accuracy, which is not a very useful metric due the very large class imablance (a model that simply guessed \"No Emotion\" every time would achieve a very respectable accuracy).\n",
    "\n",
    "I also created a custom confusion matrix function that will display, for each of the predicted answers, the % of the time it was in fact each true answer, which makes it easy to see specific areas where the model struggles."
   ]
  },
  {
   "cell_type": "code",
   "execution_count": 10,
   "metadata": {},
   "outputs": [],
   "source": [
    "def micro_f1_score(y_true, y_pred):\n",
    "    return sklearn.metrics.f1_score(y_true, y_pred, average=\"micro\")\n",
    "\n",
    "def confusion_matrix(y_true, y_pred):\n",
    "    # create some data\n",
    "    lookup = {0: 'no emotion', 1: 'anger', 2: 'disgust', 3: 'fear', 4: 'happiness', 5: 'sadness', 6: 'surprise'}\n",
    "    y_true = pd.Series([lookup[_] for _ in y_true])\n",
    "    y_pred = pd.Series([lookup[_] for _ in y_pred])\n",
    "\n",
    "    return pd.crosstab(y_true, y_pred, rownames=['True'], colnames=['Predicted']).apply(lambda r: 100.0 * r/r.sum())"
   ]
  },
  {
   "cell_type": "code",
   "execution_count": 11,
   "metadata": {},
   "outputs": [
    {
     "name": "stdout",
     "output_type": "stream",
     "text": [
      "Converting to features started. Cache is not used.\n"
     ]
    },
    {
     "data": {
      "application/vnd.jupyter.widget-view+json": {
       "model_id": "6d425d1322a146b8a1fa0b4dbec4a7f6",
       "version_major": 2,
       "version_minor": 0
      },
      "text/plain": [
       "HBox(children=(FloatProgress(value=0.0, max=15443.0), HTML(value='')))"
      ]
     },
     "metadata": {},
     "output_type": "display_data"
    },
    {
     "name": "stdout",
     "output_type": "stream",
     "text": [
      "\n"
     ]
    },
    {
     "data": {
      "application/vnd.jupyter.widget-view+json": {
       "model_id": "2128393de4284f73980defd7d26b8547",
       "version_major": 2,
       "version_minor": 0
      },
      "text/plain": [
       "HBox(children=(FloatProgress(value=0.0, max=242.0), HTML(value='')))"
      ]
     },
     "metadata": {},
     "output_type": "display_data"
    },
    {
     "name": "stdout",
     "output_type": "stream",
     "text": [
      "\n",
      "{'mcc': 0.5085466329944889, 'eval_loss': 0.3814309377623491, 'f1': 0.8672537719355048, 'acc': 0.8672537719355048, 'conf': Predicted       anger    disgust   fear  happiness  no emotion    sadness  \\\n",
      "True                                                                        \n",
      "anger       35.483871  14.285714    0.0   0.236407    0.899753   1.538462   \n",
      "disgust     11.290323  57.142857    0.0   0.000000    0.232436   0.000000   \n",
      "fear         0.000000   0.000000    0.0   0.059102    0.172453   1.538462   \n",
      "happiness    6.451613   0.000000    0.0  64.361702    6.185799   3.076923   \n",
      "no emotion  41.935484  19.047619  100.0  34.456265   90.687561  58.461538   \n",
      "sadness      1.612903   9.523810    0.0   0.118203    1.057209  32.307692   \n",
      "surprise     3.225806   0.000000    0.0   0.768322    0.764790   3.076923   \n",
      "\n",
      "Predicted    surprise  \n",
      "True                   \n",
      "anger        1.132075  \n",
      "disgust      0.754717  \n",
      "fear         0.377358  \n",
      "happiness    4.528302  \n",
      "no emotion  33.207547  \n",
      "sadness      1.886792  \n",
      "surprise    58.113208  }\n"
     ]
    }
   ],
   "source": [
    "# Evaluate the model\n",
    "result, model_outputs, wrong_predictions = model.eval_model(eval_df, f1=micro_f1_score, acc=sklearn.metrics.accuracy_score, conf=confusion_matrix)"
   ]
  },
  {
   "cell_type": "markdown",
   "metadata": {},
   "source": [
    "# Evaluation Analysis\n",
    "\n",
    "Despite the questionable utility of the Micro F1 score, as you can see from the output above, the model was able to achieve an F1 score of nearly .87 against the evaluation dataset, a large increase over the baseline score of .71 from the original study. We can also see the nearly .51 mcc that was shown in our visuals earlier.\n",
    "\n",
    "Lastly, looking at the confusion matrix, we can see that (despite resolving the issue I described earlier of only predicting 4 of the 7 classes), it continues to consistently over-predict \"No Emotion\". In the case of fear (one of the smallest classes), it predicted no emotion 100% of the time. This makes sense. Even without heavily over-fitting, if the sentence isn't clear, guessing non-emotion has the greatest change of being correct simply due to the distribution.\n",
    "\n",
    "Since this issue was persisting, I decided to not yet evaluate against the Test holdout dataset, and instead implement another measure to attempt to address the imbalanced dataset somewhat."
   ]
  },
  {
   "cell_type": "markdown",
   "metadata": {},
   "source": [
    "# Imbalanced Classes Mitigation\n",
    "\n",
    "From my research, there are a number of ways of addressing class imbalance, including data generation for less frequent classes, or simply reducting the amount of the majority class, or duplicating the smaller classes.\n",
    "\n",
    "These all seemed to have their own drawbacks (reducing the amount of training data in the case of reducing the majority class, and increasing training time in the case of duplicating the minority classes), so I went with setting class weights during training.\n",
    "\n",
    "By giving the classes weights, from my understanding it essentially penalizes incorrect guesses on the minority classes more then the majority classes, by generating a large amount of loss when those minority classes aren't predicted correctly.\n",
    "\n",
    "First, I created variables to hold the weights of each of the classes, simply by dividing the number of observations into the total number. I then used these weights in the \"weights\" parameter and trained again, keeping everything else the same."
   ]
  },
  {
   "cell_type": "code",
   "execution_count": 27,
   "metadata": {},
   "outputs": [
    {
     "name": "stdout",
     "output_type": "stream",
     "text": [
      "No Emotion Weight: 1.2033855862172584\n",
      "Anger Weight: 100.81678321678322\n",
      "Disgust Weight: 291.83805668016197\n",
      "Fear Weight: 595.7355371900826\n",
      "Happiness Weight: 7.992460361459142\n",
      "Sadness Weight: 89.54534161490683\n",
      "Surprise Weight: 56.492163009404386\n"
     ]
    }
   ],
   "source": [
    "total_emotions_count = len(train_df.labels)\n",
    "\n",
    "no_emotion_weight = total_emotions_count/len(train_df[train_df.labels == 0])\n",
    "anger_weight = total_emotions_count/len(train_df[train_df.labels == 1])\n",
    "disgust_weight = total_emotions_count/len(train_df[train_df.labels == 2])\n",
    "fear_weight = total_emotions_count/len(train_df[train_df.labels == 3])\n",
    "happiness_weight = total_emotions_count/len(train_df[train_df.labels == 4])\n",
    "sadness_weight = total_emotions_count/len(train_df[train_df.labels == 5])\n",
    "surprise_weight = total_emotions_count/len(train_df[train_df.labels == 6])\n",
    "\n",
    "print(\"No Emotion Weight: {}\".format(no_emotion_weight))\n",
    "print(\"Anger Weight: {}\".format(anger_weight))\n",
    "print(\"Disgust Weight: {}\".format(disgust_weight))\n",
    "print(\"Fear Weight: {}\".format(fear_weight))\n",
    "print(\"Happiness Weight: {}\".format(happiness_weight))\n",
    "print(\"Sadness Weight: {}\".format(sadness_weight))\n",
    "print(\"Surprise Weight: {}\".format(surprise_weight))\n"
   ]
  },
  {
   "cell_type": "code",
   "execution_count": 20,
   "metadata": {},
   "outputs": [
    {
     "name": "stdout",
     "output_type": "stream",
     "text": [
      "Converting to features started. Cache is not used.\n"
     ]
    },
    {
     "data": {
      "application/vnd.jupyter.widget-view+json": {
       "model_id": "c59f473881b343a2be448c80db549668",
       "version_major": 2,
       "version_minor": 0
      },
      "text/plain": [
       "HBox(children=(FloatProgress(value=0.0, max=72084.0), HTML(value='')))"
      ]
     },
     "metadata": {},
     "output_type": "display_data"
    },
    {
     "name": "stdout",
     "output_type": "stream",
     "text": [
      "\n",
      "Selected optimization level O1:  Insert automatic casts around Pytorch functions and Tensor methods.\n",
      "\n",
      "Defaults for this optimization level are:\n",
      "enabled                : True\n",
      "opt_level              : O1\n",
      "cast_model_type        : None\n",
      "patch_torch_functions  : True\n",
      "keep_batchnorm_fp32    : None\n",
      "master_weights         : None\n",
      "loss_scale             : dynamic\n",
      "Processing user overrides (additional kwargs that are not None)...\n",
      "After processing overrides, optimization options are:\n",
      "enabled                : True\n",
      "opt_level              : O1\n",
      "cast_model_type        : None\n",
      "patch_torch_functions  : True\n",
      "keep_batchnorm_fp32    : None\n",
      "master_weights         : None\n",
      "loss_scale             : dynamic\n"
     ]
    },
    {
     "data": {
      "application/vnd.jupyter.widget-view+json": {
       "model_id": "f49c3f1c42ba43ec903354af19779ffc",
       "version_major": 2,
       "version_minor": 0
      },
      "text/plain": [
       "HBox(children=(FloatProgress(value=0.0, description='Epoch', max=3.0, style=ProgressStyle(description_width='i…"
      ]
     },
     "metadata": {},
     "output_type": "display_data"
    },
    {
     "data": {
      "text/html": [
       "\n",
       "                Logging results to <a href=\"https://wandb.com\" target=\"_blank\">Weights & Biases</a> <a href=\"https://docs.wandb.com/integrations/jupyter.html\" target=\"_blank\">(Documentation)</a>.<br/>\n",
       "                Project page: <a href=\"https://app.wandb.ai/brinew27/visualization-demo\" target=\"_blank\">https://app.wandb.ai/brinew27/visualization-demo</a><br/>\n",
       "                Run page: <a href=\"https://app.wandb.ai/brinew27/visualization-demo/runs/5a3qb2kr\" target=\"_blank\">https://app.wandb.ai/brinew27/visualization-demo/runs/5a3qb2kr</a><br/>\n",
       "            "
      ],
      "text/plain": [
       "<IPython.core.display.HTML object>"
      ]
     },
     "metadata": {},
     "output_type": "display_data"
    },
    {
     "name": "stderr",
     "output_type": "stream",
     "text": [
      "Failed to query for notebook name, you can set it manually with the WANDB_NOTEBOOK_NAME environment variable\n",
      "wandb: Wandb version 0.8.26 is available!  To upgrade, please run:\n",
      "wandb:  $ pip install wandb --upgrade\n"
     ]
    },
    {
     "data": {
      "application/vnd.jupyter.widget-view+json": {
       "model_id": "ad09fdfd16574a7daa6b0ce15a231fd7",
       "version_major": 2,
       "version_minor": 0
      },
      "text/plain": [
       "HBox(children=(FloatProgress(value=0.0, description='Current iteration', max=1127.0, style=ProgressStyle(descr…"
      ]
     },
     "metadata": {},
     "output_type": "display_data"
    },
    {
     "name": "stdout",
     "output_type": "stream",
     "text": [
      "\r",
      "Running loss: 1.752344"
     ]
    },
    {
     "name": "stderr",
     "output_type": "stream",
     "text": [
      "D:\\Anaconda3\\envs\\transformers\\lib\\site-packages\\torch\\optim\\lr_scheduler.py:113: UserWarning: Seems like `optimizer.step()` has been overridden after learning rate scheduler initialization. Please, make sure to call `optimizer.step()` before `lr_scheduler.step()`. See more details at https://pytorch.org/docs/stable/optim.html#how-to-adjust-learning-rate\n",
      "  \"https://pytorch.org/docs/stable/optim.html#how-to-adjust-learning-rate\", UserWarning)\n"
     ]
    },
    {
     "name": "stdout",
     "output_type": "stream",
     "text": [
      "Running loss: 0.481061Gradient overflow.  Skipping step, loss scaler 0 reducing loss scale to 32768.0\n",
      "Running loss: 0.367568"
     ]
    },
    {
     "name": "stderr",
     "output_type": "stream",
     "text": [
      "D:\\Anaconda3\\envs\\transformers\\lib\\site-packages\\torch\\optim\\lr_scheduler.py:224: UserWarning: To get the last learning rate computed by the scheduler, please use `get_last_lr()`.\n",
      "  warnings.warn(\"To get the last learning rate computed by the scheduler, \"\n"
     ]
    },
    {
     "name": "stdout",
     "output_type": "stream",
     "text": [
      "Running loss: 0.349208\n",
      "No improvement in eval_loss for 1 steps.\n",
      "Training will stop at 3 steps.\n",
      "\n",
      "Running loss: 0.255422\n",
      "No improvement in eval_loss for 1 steps.\n",
      "Training will stop at 3 steps.\n",
      "\n",
      "Running loss: 0.250587\n",
      "No improvement in eval_loss for 2 steps.\n",
      "Training will stop at 3 steps.\n",
      "\n",
      "Running loss: 0.214322\n"
     ]
    },
    {
     "data": {
      "application/vnd.jupyter.widget-view+json": {
       "model_id": "fd680cdc682a4e25b2d33074d2aa78df",
       "version_major": 2,
       "version_minor": 0
      },
      "text/plain": [
       "HBox(children=(FloatProgress(value=0.0, description='Current iteration', max=1127.0, style=ProgressStyle(descr…"
      ]
     },
     "metadata": {},
     "output_type": "display_data"
    },
    {
     "name": "stdout",
     "output_type": "stream",
     "text": [
      "Running loss: 0.308047\n",
      "No improvement in eval_loss for 1 steps.\n",
      "Training will stop at 3 steps.\n",
      "\n",
      "Running loss: 0.513413\n",
      "No improvement in eval_loss for 2 steps.\n",
      "Training will stop at 3 steps.\n",
      "\n",
      "Running loss: 0.151663\n",
      "No improvement in eval_loss for 3 steps.\n",
      "Training will stop at 3 steps.\n",
      "\n",
      "Running loss: 0.316634\n",
      "Patience of 3 steps reached.\n",
      "Training terminated.\n",
      "\n",
      "Training of roberta model complete. Saved to outputs/.\n"
     ]
    }
   ],
   "source": [
    "# Training arguments\n",
    "train_args = {\n",
    "    'evaluate_during_training': True,\n",
    "    'logging_steps': 100,\n",
    "    'num_train_epochs': 3,\n",
    "    'evaluate_during_training_steps': 100,\n",
    "    'save_eval_checkpoints': False,\n",
    "    'train_batch_size': 64,\n",
    "    'eval_batch_size': 64,\n",
    "    'overwrite_output_dir': True,\n",
    "    'use_cached_eval_features' : False,\n",
    "    'reprocess_input_data': True,\n",
    "    'wandb_project': \"visualization-demo\",\n",
    "    \"use_early_stopping\": True,\n",
    "    \"early_stopping_patience\": 3,\n",
    "    \"early_stopping_delta\": 0,\n",
    "    \"weights\": [no_emotion_weight, anger_weight, disgust_weight, fear_weight, happiness_weight, sadness_weight, surprise_weight]\n",
    "}\n",
    "\n",
    "# Create a ClassificationModel\n",
    "model = ClassificationModel('roberta', 'distilroberta-base', num_labels=7, args=train_args)\n",
    "\n",
    "# Train the model\n",
    "model.train_model(train_df, eval_df=eval_df)"
   ]
  },
  {
   "cell_type": "code",
   "execution_count": 28,
   "metadata": {},
   "outputs": [
    {
     "name": "stdout",
     "output_type": "stream",
     "text": [
      "Converting to features started. Cache is not used.\n"
     ]
    },
    {
     "data": {
      "application/vnd.jupyter.widget-view+json": {
       "model_id": "90455b044ebb4d09a7d65af0fb01e16a",
       "version_major": 2,
       "version_minor": 0
      },
      "text/plain": [
       "HBox(children=(FloatProgress(value=0.0, max=15443.0), HTML(value='')))"
      ]
     },
     "metadata": {},
     "output_type": "display_data"
    },
    {
     "name": "stdout",
     "output_type": "stream",
     "text": [
      "\n"
     ]
    },
    {
     "data": {
      "application/vnd.jupyter.widget-view+json": {
       "model_id": "d58fab64568b47378393514cca0a437e",
       "version_major": 2,
       "version_minor": 0
      },
      "text/plain": [
       "HBox(children=(FloatProgress(value=0.0, max=242.0), HTML(value='')))"
      ]
     },
     "metadata": {},
     "output_type": "display_data"
    },
    {
     "name": "stdout",
     "output_type": "stream",
     "text": [
      "\n",
      "{'mcc': 0.5063363410832458, 'eval_loss': 0.38723472256428937, 'f1': 0.8646636016318073, 'acc': 0.8646636016318073, 'conf': Predicted       anger    disgust   fear  happiness  no emotion    sadness  \\\n",
      "True                                                                        \n",
      "anger       45.000000  14.285714    0.0   0.372539    0.824508   0.000000   \n",
      "disgust     15.000000  50.000000    0.0   0.053220    0.249622   0.000000   \n",
      "fear         1.666667   0.000000    0.0   0.053220    0.166415  16.666667   \n",
      "happiness    0.000000   0.000000    0.0  60.936668    5.832073   0.000000   \n",
      "no emotion  35.000000  35.714286  100.0  37.519957   90.930408  50.000000   \n",
      "sadness      0.000000   0.000000    0.0   0.053220    1.232980  33.333333   \n",
      "surprise     3.333333   0.000000    0.0   1.011176    0.763994   0.000000   \n",
      "\n",
      "Predicted    surprise  \n",
      "True                   \n",
      "anger        3.041825  \n",
      "disgust      0.760456  \n",
      "fear         0.380228  \n",
      "happiness    6.083650  \n",
      "no emotion  30.038023  \n",
      "sadness      2.281369  \n",
      "surprise    57.414449  }\n"
     ]
    }
   ],
   "source": [
    "# Evaluate the model\n",
    "result, model_outputs, wrong_predictions = model.eval_model(eval_df, f1=micro_f1_score, acc=sklearn.metrics.accuracy_score, conf=confusion_matrix)"
   ]
  },
  {
   "cell_type": "code",
   "execution_count": 23,
   "metadata": {},
   "outputs": [
    {
     "name": "stdout",
     "output_type": "stream",
     "text": [
      "Converting to features started. Cache is not used.\n"
     ]
    },
    {
     "data": {
      "application/vnd.jupyter.widget-view+json": {
       "model_id": "cd0c4410634848f2afd6628fa327d9e9",
       "version_major": 2,
       "version_minor": 0
      },
      "text/plain": [
       "HBox(children=(FloatProgress(value=0.0, max=15443.0), HTML(value='')))"
      ]
     },
     "metadata": {},
     "output_type": "display_data"
    },
    {
     "name": "stdout",
     "output_type": "stream",
     "text": [
      "\n"
     ]
    },
    {
     "data": {
      "application/vnd.jupyter.widget-view+json": {
       "model_id": "ff05afab5d114b2183960603e6d66ab4",
       "version_major": 2,
       "version_minor": 0
      },
      "text/plain": [
       "HBox(children=(FloatProgress(value=0.0, max=242.0), HTML(value='')))"
      ]
     },
     "metadata": {},
     "output_type": "display_data"
    },
    {
     "name": "stdout",
     "output_type": "stream",
     "text": [
      "\n",
      "{'mcc': 0.5193759128992298, 'eval_loss': 0.3710164073392872, 'f1': 0.8689373826329081, 'acc': 0.8689373826329081, 'conf': Predicted       anger    disgust  happiness  no emotion    sadness   surprise\n",
      "True                                                                         \n",
      "anger       55.737705   8.333333   0.383772    0.739009   0.000000   4.676259\n",
      "disgust      4.918033  58.333333   0.054825    0.294095   0.000000   0.719424\n",
      "fear         0.000000   0.000000   0.000000    0.180982   0.000000   0.719424\n",
      "happiness    0.000000   0.000000  62.335526    5.836664   0.000000   7.553957\n",
      "no emotion  26.229508  33.333333  36.348684   91.048941  57.142857  26.618705\n",
      "sadness      4.918033   0.000000   0.109649    1.221627  42.857143   0.719424\n",
      "surprise     8.196721   0.000000   0.767544    0.678682   0.000000  58.992806}\n"
     ]
    }
   ],
   "source": [
    "# Evaluate the model\n",
    "result, model_outputs, wrong_predictions = model.eval_model(test_df, f1=micro_f1_score, acc=sklearn.metrics.accuracy_score, conf=confusion_matrix)"
   ]
  },
  {
   "cell_type": "markdown",
   "metadata": {},
   "source": [
    "# Evaluation Analysis\n",
    "\n",
    "Despite setting the weights, we actually see very little change in the confusion matrix for the evaluation dataset. Some areas were improved slightly (Anger moved from 35% correct to 45%) but others stayed mostly the same or even reduced slightly. The weights will probably require further tweaking and/or other methods of addressing the class imbalance will need to be implemented. However, given that I'd done a moderate amount of tuning to improve the model performance, I decided to run against the holdout Test dataset.\n",
    "\n",
    "I achieved an even higher mcc score (nearly .52) and similar accuracy. We can see from the confusion matrix that for every class, it had a better htan 50% change of picking the right answer, though sadly we do see that the fear predictions again were never made. It would probably be worthwhile to look at the fear predictions that were mis-classified (seemingly most commonly as surprise) to get a better idea of why the model was having a hard time identifying them, as well as further weight the fear class and/or add additional labeled observations of fear emotion sentences."
   ]
  },
  {
   "cell_type": "markdown",
   "metadata": {},
   "source": [
    "# Prediction\n",
    "\n",
    "Lastly, we can use the trained model to make a few sample predictions. As you can see below, the model was able to correctly label my example surprise and happy sentences, but struggled with my anger and disgust examples."
   ]
  },
  {
   "cell_type": "code",
   "execution_count": 29,
   "metadata": {},
   "outputs": [],
   "source": [
    "#Prepare a dictionary for clearer class prediction.\n",
    "emotions = {0: 'no emotion', 1: 'anger', 2: 'disgust', 3: 'fear', 4: 'happiness', 5: 'sadness', 6: 'surprise'}"
   ]
  },
  {
   "cell_type": "code",
   "execution_count": 32,
   "metadata": {},
   "outputs": [
    {
     "name": "stdout",
     "output_type": "stream",
     "text": [
      "Converting to features started. Cache is not used.\n"
     ]
    },
    {
     "data": {
      "application/vnd.jupyter.widget-view+json": {
       "model_id": "828025d7a1a54b21b3914f630e04657d",
       "version_major": 2,
       "version_minor": 0
      },
      "text/plain": [
       "HBox(children=(FloatProgress(value=0.0, max=4.0), HTML(value='')))"
      ]
     },
     "metadata": {},
     "output_type": "display_data"
    },
    {
     "name": "stdout",
     "output_type": "stream",
     "text": [
      "\n"
     ]
    },
    {
     "data": {
      "application/vnd.jupyter.widget-view+json": {
       "model_id": "2ae0dafb80a9434a9c9e8466cde8c207",
       "version_major": 2,
       "version_minor": 0
      },
      "text/plain": [
       "HBox(children=(FloatProgress(value=0.0, max=1.0), HTML(value='')))"
      ]
     },
     "metadata": {},
     "output_type": "display_data"
    },
    {
     "name": "stdout",
     "output_type": "stream",
     "text": [
      "\n",
      "surprise\n",
      "happiness\n",
      "no emotion\n",
      "no emotion\n",
      "[6 4 0 0]\n"
     ]
    }
   ],
   "source": [
    "to_predict = [\"What??? No way!\", \"I'm so glad you come over.\", \"You need to stop that, I'm getting upset.\", \"Ewww, that looks gross.\"]\n",
    "\n",
    "preds, model_outputs = model.predict(to_predict)\n",
    "\n",
    "for prediction in preds:\n",
    "    print(emotions.get(prediction))\n",
    "print(preds)"
   ]
  },
  {
   "cell_type": "markdown",
   "metadata": {},
   "source": [
    "# Final Thoughts and Next Steps\n",
    "\n",
    "I was impressed by both the power of even the reduced DistilRoBERTa model as well as the ease of use and flexibility of the Simple Transformers library.\n",
    "\n",
    "One take away from the original study was that the nature of the training data can affect the predictive power of the eventual model dramatically. Despite this being a relatively large dataset (over 100,000 labeled sentences), most classes were heavily under-represented, which likely hurt its ability to accurately predict some of those smaller classes. In addition, simply perusing some of the sample mis-classified sentences made me question some of the labeling, which is a potential byproduct of using humans to manually label so many sentences as a third party As always, getting a robust enough, balanced, clean source of data is a challenge.\n",
    "\n",
    "As next steps, I'd like to deploy this model to AWS through a service like Sagemaker to be able to serve predictions in the cloud and perhaps build a simple web interface to generate predictions against entered text. However, even on my local GPU accelerated machine, predictions take a second or two as features are generated, so this would need to be optimized for actual production usage.\n",
    "\n",
    "Lastly, I'd like to take my learnings from this project and apply them to other mental health text data and explore applications of BERT against actual mental health related interactions to improve treatment delivery."
   ]
  }
 ],
 "metadata": {
  "kernelspec": {
   "display_name": "Python 3",
   "language": "python",
   "name": "python3"
  },
  "language_info": {
   "codemirror_mode": {
    "name": "ipython",
    "version": 3
   },
   "file_extension": ".py",
   "mimetype": "text/x-python",
   "name": "python",
   "nbconvert_exporter": "python",
   "pygments_lexer": "ipython3",
   "version": "3.7.6"
  }
 },
 "nbformat": 4,
 "nbformat_minor": 2
}
